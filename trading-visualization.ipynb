{
 "cells": [
  {
   "cell_type": "code",
   "execution_count": 1,
   "metadata": {},
   "outputs": [],
   "source": [
    "import pandas as pd"
   ]
  },
  {
   "cell_type": "code",
   "execution_count": 2,
   "metadata": {},
   "outputs": [
    {
     "data": {
      "text/html": [
       "<div>\n",
       "<style scoped>\n",
       "    .dataframe tbody tr th:only-of-type {\n",
       "        vertical-align: middle;\n",
       "    }\n",
       "\n",
       "    .dataframe tbody tr th {\n",
       "        vertical-align: top;\n",
       "    }\n",
       "\n",
       "    .dataframe thead th {\n",
       "        text-align: right;\n",
       "    }\n",
       "</style>\n",
       "<table border=\"1\" class=\"dataframe\">\n",
       "  <thead>\n",
       "    <tr style=\"text-align: right;\">\n",
       "      <th></th>\n",
       "      <th>Date</th>\n",
       "      <th>Open</th>\n",
       "      <th>High</th>\n",
       "      <th>Low</th>\n",
       "      <th>Close</th>\n",
       "      <th>Adj Close</th>\n",
       "      <th>Volume</th>\n",
       "    </tr>\n",
       "  </thead>\n",
       "  <tbody>\n",
       "    <tr>\n",
       "      <th>0</th>\n",
       "      <td>2005-05-18</td>\n",
       "      <td>5.064286</td>\n",
       "      <td>5.365714</td>\n",
       "      <td>4.998571</td>\n",
       "      <td>5.120000</td>\n",
       "      <td>4.432371</td>\n",
       "      <td>159180700</td>\n",
       "    </tr>\n",
       "    <tr>\n",
       "      <th>1</th>\n",
       "      <td>2005-05-19</td>\n",
       "      <td>5.111429</td>\n",
       "      <td>5.382857</td>\n",
       "      <td>5.111429</td>\n",
       "      <td>5.364286</td>\n",
       "      <td>4.643848</td>\n",
       "      <td>198290400</td>\n",
       "    </tr>\n",
       "    <tr>\n",
       "      <th>2</th>\n",
       "      <td>2005-05-20</td>\n",
       "      <td>5.321429</td>\n",
       "      <td>5.378572</td>\n",
       "      <td>5.312857</td>\n",
       "      <td>5.364286</td>\n",
       "      <td>4.643848</td>\n",
       "      <td>113162700</td>\n",
       "    </tr>\n",
       "    <tr>\n",
       "      <th>3</th>\n",
       "      <td>2005-05-23</td>\n",
       "      <td>5.407143</td>\n",
       "      <td>5.700000</td>\n",
       "      <td>5.407143</td>\n",
       "      <td>5.680000</td>\n",
       "      <td>4.917161</td>\n",
       "      <td>260643600</td>\n",
       "    </tr>\n",
       "    <tr>\n",
       "      <th>4</th>\n",
       "      <td>2005-05-24</td>\n",
       "      <td>5.635714</td>\n",
       "      <td>5.712857</td>\n",
       "      <td>5.575714</td>\n",
       "      <td>5.671429</td>\n",
       "      <td>4.909742</td>\n",
       "      <td>148365000</td>\n",
       "    </tr>\n",
       "    <tr>\n",
       "      <th>5</th>\n",
       "      <td>2005-05-25</td>\n",
       "      <td>5.642857</td>\n",
       "      <td>5.707143</td>\n",
       "      <td>5.617143</td>\n",
       "      <td>5.682857</td>\n",
       "      <td>4.919635</td>\n",
       "      <td>99001700</td>\n",
       "    </tr>\n",
       "    <tr>\n",
       "      <th>6</th>\n",
       "      <td>2005-05-26</td>\n",
       "      <td>5.705714</td>\n",
       "      <td>5.848571</td>\n",
       "      <td>5.705714</td>\n",
       "      <td>5.820000</td>\n",
       "      <td>5.038360</td>\n",
       "      <td>131380200</td>\n",
       "    </tr>\n",
       "    <tr>\n",
       "      <th>7</th>\n",
       "      <td>2005-05-27</td>\n",
       "      <td>5.805714</td>\n",
       "      <td>5.827143</td>\n",
       "      <td>5.715714</td>\n",
       "      <td>5.794286</td>\n",
       "      <td>5.016098</td>\n",
       "      <td>79002000</td>\n",
       "    </tr>\n",
       "    <tr>\n",
       "      <th>8</th>\n",
       "      <td>2005-05-31</td>\n",
       "      <td>5.808571</td>\n",
       "      <td>5.820000</td>\n",
       "      <td>5.654286</td>\n",
       "      <td>5.680000</td>\n",
       "      <td>4.917161</td>\n",
       "      <td>101051300</td>\n",
       "    </tr>\n",
       "    <tr>\n",
       "      <th>9</th>\n",
       "      <td>2005-06-01</td>\n",
       "      <td>5.698571</td>\n",
       "      <td>5.822857</td>\n",
       "      <td>5.694286</td>\n",
       "      <td>5.757143</td>\n",
       "      <td>4.983943</td>\n",
       "      <td>113453200</td>\n",
       "    </tr>\n",
       "  </tbody>\n",
       "</table>\n",
       "</div>"
      ],
      "text/plain": [
       "         Date      Open      High       Low     Close  Adj Close     Volume\n",
       "0  2005-05-18  5.064286  5.365714  4.998571  5.120000   4.432371  159180700\n",
       "1  2005-05-19  5.111429  5.382857  5.111429  5.364286   4.643848  198290400\n",
       "2  2005-05-20  5.321429  5.378572  5.312857  5.364286   4.643848  113162700\n",
       "3  2005-05-23  5.407143  5.700000  5.407143  5.680000   4.917161  260643600\n",
       "4  2005-05-24  5.635714  5.712857  5.575714  5.671429   4.909742  148365000\n",
       "5  2005-05-25  5.642857  5.707143  5.617143  5.682857   4.919635   99001700\n",
       "6  2005-05-26  5.705714  5.848571  5.705714  5.820000   5.038360  131380200\n",
       "7  2005-05-27  5.805714  5.827143  5.715714  5.794286   5.016098   79002000\n",
       "8  2005-05-31  5.808571  5.820000  5.654286  5.680000   4.917161  101051300\n",
       "9  2005-06-01  5.698571  5.822857  5.694286  5.757143   4.983943  113453200"
      ]
     },
     "execution_count": 2,
     "metadata": {},
     "output_type": "execute_result"
    }
   ],
   "source": [
    "df = pd.read_csv('./data/AAPL.csv')\n",
    "df.reindex(index=df.index[::-1])\n",
    "\n",
    "df.head(10)"
   ]
  },
  {
   "cell_type": "code",
   "execution_count": 3,
   "metadata": {},
   "outputs": [
    {
     "data": {
      "image/png": "[encoded data removed]",
      "text/plain": [
       "<Figure size 1296x1152 with 4 Axes>"
      ]
     },
     "metadata": {
      "needs_background": "light"
     },
     "output_type": "display_data"
    }
   ],
   "source": [
    "import matplotlib.pyplot as plt\n",
    "\n",
    "def plotting_differences(dataframe_slice):\n",
    "\n",
    "    fig = plt.figure(figsize=(18, 16))\n",
    "    fig.subplots_adjust(hspace=0.4, wspace=0.4)\n",
    "\n",
    "    plt.subplot(4, 1, 1)\n",
    "    plt.title('Difference between Closing price and Opening price')\n",
    "    plt.plot(df['Close'] - df['Open'])\n",
    "    plt.ylabel('Price difference')\n",
    "    plt.xlabel('Day no')\n",
    "    plt.grid()\n",
    "\n",
    "    plt.subplot(4, 1, 2)\n",
    "    plt.title('Difference between Highest price and Lowest price')\n",
    "    plt.plot(df['High'] - df['Low'])\n",
    "    plt.ylabel('Price difference')\n",
    "    plt.xlabel('Day no')\n",
    "    plt.grid()\n",
    "\n",
    "    plt.subplot(4, 1, 3)\n",
    "    plt.title('Opening price')\n",
    "    plt.plot(df['Open'])\n",
    "    plt.ylabel('Price')\n",
    "    plt.xlabel('Day no')\n",
    "    plt.grid()\n",
    "    \n",
    "    plt.subplot(4, 1, 4)\n",
    "    plt.title('Closing price')\n",
    "    plt.plot(df['Close'])\n",
    "    plt.ylabel('Price')\n",
    "    plt.xlabel('Day no')\n",
    "    plt.grid()\n",
    "\n",
    "    plt.savefig('./price-vis.png')\n",
    "    plt.show()\n",
    "    \n",
    "plotting_differences(df)"
   ]
  },
  {
   "cell_type": "code",
   "execution_count": 4,
   "metadata": {},
   "outputs": [],
   "source": [
    "def split_df(dataframe, chunk_len, step=1):\n",
    "    return [dataframe[x-chunk_len:x] for x in range(chunk_len, len(df), step)]\n",
    "\n",
    "chunks = split_df(df, 30)\n",
    "chunks = list(map(lambda x: x.reset_index(), chunks))"
   ]
  },
  {
   "cell_type": "code",
   "execution_count": 5,
   "metadata": {},
   "outputs": [
    {
     "data": {
      "image/png": "[encoded data removed]",
      "text/plain": [
       "<Figure size 1152x432 with 1 Axes>"
      ]
     },
     "metadata": {
      "needs_background": "light"
     },
     "output_type": "display_data"
    }
   ],
   "source": [
    "def plot_chunk(chunk):\n",
    "    fig = plt.figure(figsize=(16, 6))\n",
    "    fig.subplots_adjust(hspace=0.4, wspace=0.4)\n",
    "\n",
    "    plt.plot(chunk['Close'], label='Close')\n",
    "    plt.plot(chunk['Open'], label='Open')\n",
    "    plt.plot(chunk['Low'], label='Low')\n",
    "    plt.plot(chunk['High'], label='High')\n",
    "    \n",
    "    plt.legend(bbox_to_anchor=(0., 1.02, 1., .102), loc='lower left',\n",
    "           ncol=2, mode=\"expand\", borderaxespad=0.)\n",
    "    \n",
    "plot_chunk(chunks[0])"
   ]
  },
  {
   "cell_type": "code",
   "execution_count": 36,
   "metadata": {},
   "outputs": [
    {
     "data": {
      "text/plain": [
       "(array([ 65.,  21., 103.]),\n",
       " array([-50,  -1,   1,  50]),\n",
       " <a list of 3 Patch objects>)"
      ]
     },
     "execution_count": 36,
     "metadata": {},
     "output_type": "execute_result"
    },
    {
     "data": {
      "image/png": "[encoded data removed]",
      "text/plain": [
       "<Figure size 432x288 with 1 Axes>"
      ]
     },
     "metadata": {
      "needs_background": "light"
     },
     "output_type": "display_data"
    }
   ],
   "source": [
    "every_10th_opening = df['Open'].to_numpy()[0::10]\n",
    "\n",
    "relative_changes = []\n",
    "for (opening1, opening2) in zip(every_10th_opening[0::2], every_10th_opening[1::2]):\n",
    "    relative_changes += [(opening2 - opening1) / opening1 * 100] # %\n",
    "    \n",
    "plt.hist(relative_changes, bins=[-50,-1,1,50])"
   ]
  },
  {
   "cell_type": "code",
   "execution_count": 68,
   "metadata": {},
   "outputs": [],
   "source": [
    "import datetime\n",
    "import time\n",
    "\n",
    "daily_ts = lambda date: int(time.mktime(datetime.datetime.strptime(date, \"%Y-%m-%d\").timetuple())) * 1000"
   ]
  },
  {
   "cell_type": "code",
   "execution_count": 93,
   "metadata": {},
   "outputs": [
    {
     "data": {
      "application/vnd.plotly.v1+json": {
       "config": {
        "plotlyServerURL": "https://plot.ly"
       },
       "data": [
        {
         "close": [
          63.254284,
          62.755714000000005,
          63.645714,
          64.28286,
          65.815712,
          65.522858,
          66.262856,
          65.252853,
          64.709999,
          64.96285999999999,
          63.408573,
          61.264286,
          62.082859,
          61.894287,
          63.275715000000005,
          62.80857099999999,
          63.049999,
          63.162856999999995,
          63.592856999999995,
          63.062858999999996,
          63.564285,
          64.511429,
          64.247147,
          64.388573,
          64.187141,
          63.587143000000005,
          62.637142000000004,
          63.115715,
          62.69857,
          62.514286,
          61.741428000000006,
          62.279999,
          61.435715,
          61.714287,
          61.681427,
          60.42856999999999,
          59.548573,
          59.07143000000001,
          57.505714000000005,
          57.51857,
          56.867142,
          56.254284,
          56.647144,
          58.459998999999996,
          59.784286,
          60.114284999999995,
          59.631428,
          59.292857999999995,
          60.335712,
          60.104286,
          61.041428,
          60.93,
          61.062858999999996,
          61.457142000000005,
          61.472857999999995,
          61.68,
          60.707142000000005,
          60.901428,
          59.855713,
          62.93,
          62.64285699999999,
          62.998573,
          63.970001,
          64.760002,
          64.647141,
          65.239998,
          66.077141,
          67.064285,
          66.464287,
          66.425713,
          65.858574,
          64.921425,
          66.76571700000001,
          69.938568,
          71.214287,
          71.129997,
          71.761429,
          72.534286,
          71.581429,
          71.76571700000001,
          71.851425,
          71.574287,
          71.852859,
          69.798569,
          70.128571,
          70.242859,
          69.602859,
          69.79714200000001,
          71.24143199999999,
          70.752853,
          71.174286,
          72.309998,
          70.66285699999999,
          66.815712,
          67.52714499999999,
          66.414284,
          64.302856,
          65.045715,
          66.382858,
          67.471428,
          66.772858,
          70.091431,
          69.871429,
          68.790001,
          69.459999,
          68.964287,
          68.10714,
          69.708572,
          69.937141,
          69.058571,
          69.004288,
          69.678574,
          68.705711,
          69.512856,
          69.94856999999999,
          70.40142800000001,
          70.862854,
          71.239998,
          71.58714300000001,
          72.071426,
          72.69856999999999,
          74.480003,
          74.267143,
          74.994286,
          75.987144,
          75.137146,
          75.697144,
          73.811432,
          74.985718,
          74.671425,
          74.290001,
          75.25,
          75.064285,
          74.41714499999999,
          73.21285999999999,
          74.36571500000001,
          74.150002,
          74.28714000000001,
          74.37571700000001,
          75.451431,
          74.998573,
          74.089996,
          74.221428,
          73.571426,
          74.44856999999999,
          74.257141,
          74.82,
          76.199997,
          77.994286,
          79.438568,
          78.747147,
          80.902855,
          80.714287,
          81.128571,
          80.002853,
          80.918571,
          80.792854,
          80.194283,
          80.077141,
          79.204285,
          79.64286,
          79.284286,
          78.681427,
          77.779999,
          78.431427,
          81.441429,
          81.095711,
          80.557144,
          80.012856,
          79.21714,
          80.145714,
          79.01857,
          77.28286,
          77.704285,
          77.148575,
          77.637146,
          76.645714,
          76.13428499999999,
          76.53286,
          78.055717,
          79.622856,
          79.178574,
          77.238571,
          78.438568,
          78.78714000000001,
          79.454285,
          78.010002,
          78.64286,
          72.35714,
          71.535713,
          71.397141,
          71.514282,
          71.647141,
          72.684288,
          73.227142,
          73.215714,
          74.239998,
          75.57,
          76.565712,
          76.559998
         ],
         "high": [
          63.60714300000001,
          63.561428,
          64.084282,
          64.747147,
          66.028572,
          66.535713,
          66.48143,
          66.14286,
          65.672859,
          65.414284,
          65.028572,
          63,
          62.549999,
          62.869999,
          63.685715,
          63.639998999999996,
          64.050003,
          63.737143999999994,
          63.665714,
          64.444283,
          63.92856999999999,
          64.928574,
          65.300003,
          64.622856,
          64.918571,
          64.388573,
          63.85714300000001,
          63.32,
          64.154289,
          63.251427,
          63.035713,
          62.44857,
          62.327144999999994,
          62.242858999999996,
          62.128570999999994,
          61.665714,
          60.854286,
          60,
          58.380001,
          58.255714000000005,
          57.827144999999994,
          57.341427,
          57.181427,
          58.895714,
          60.232856999999996,
          60.425713,
          60.470001,
          60.14285699999999,
          60.5,
          60.685715,
          61.17856999999999,
          61.398571,
          61.637142000000004,
          61.529999,
          61.745716,
          62.124287,
          61.99714300000001,
          61.39285699999999,
          60.994285999999995,
          63.512856000000006,
          63.057143999999994,
          63.005714000000005,
          64.284286,
          65.307144,
          65.334282,
          65.257141,
          66.121429,
          67.238571,
          67.41285699999999,
          66.714287,
          66.300003,
          65.779999,
          66.949997,
          70.665718,
          72.035713,
          71.771431,
          71.84857199999999,
          73.391426,
          72.938568,
          72.449997,
          72.227142,
          71.907143,
          72.885712,
          71.78714000000001,
          70.828575,
          70.928574,
          70.421425,
          71.514282,
          71.748573,
          71.525711,
          71.339996,
          72.559998,
          72.492859,
          67.66999799999999,
          67.914284,
          67.404289,
          65.944283,
          65.672859,
          66.621429,
          67.975716,
          68.364288,
          70.987144,
          70.781425,
          69.94856999999999,
          69.794289,
          69.238571,
          68.808571,
          69.877144,
          70.257141,
          70.335716,
          69.228569,
          70.378571,
          70.091431,
          69.684288,
          70.339996,
          70.548569,
          71.08285500000001,
          71.714287,
          71.790001,
          72.111427,
          72.751427,
          74.900002,
          75.492859,
          75.095711,
          76.067146,
          76.175713,
          75.85714,
          77.035713,
          75.360001,
          75.355713,
          74.971428,
          75.260002,
          75.555717,
          74.980003,
          74.74143199999999,
          74.447144,
          74.524284,
          74.845711,
          74.60714,
          75.611427,
          75.584282,
          75.312859,
          74.76857,
          74.345711,
          74.458572,
          74.594284,
          75.12428299999999,
          76.591431,
          78,
          79.761429,
          80.61856800000001,
          80.91143000000001,
          81.312859,
          82.16285699999999,
          80.964287,
          81.36856800000001,
          81.12571700000001,
          81.567146,
          80.762856,
          80.41143000000001,
          80.377144,
          79.91999799999999,
          78.778572,
          78.571426,
          78.80143000000001,
          81.531425,
          81.697144,
          81.35714,
          80.629997,
          80.012856,
          80.182854,
          79.575714,
          79.099998,
          78.114288,
          77.994286,
          77.937141,
          78.122856,
          77.257141,
          77.5,
          78.104286,
          80.028572,
          79.550003,
          78.867142,
          78.581429,
          79.612854,
          79.5,
          79.37428299999999,
          79.257141,
          73.571426,
          72.48143,
          72.35714,
          71.647141,
          72.53286,
          72.779999,
          73.611427,
          73.35714,
          74.704285,
          75.998573,
          76.821426,
          77.08000200000001
         ],
         "low": [
          61.724284999999995,
          62.055714,
          62.947143999999994,
          64.164284,
          64.90142800000001,
          64.814285,
          65.11571500000001,
          65.08285500000001,
          64.354286,
          64.5,
          63.164288,
          60.337143000000005,
          59.842856999999995,
          61.57285699999999,
          61.442856000000006,
          62.028572,
          62.602856,
          62.255714000000005,
          62.908573,
          62.978573,
          62.771427,
          63.501427,
          64.214287,
          63.21143000000001,
          63.912856999999995,
          63.387142000000004,
          62.007141000000004,
          61.824287,
          62.400002,
          61.902859,
          61.64285699999999,
          61.25,
          61.214287,
          61.48,
          61.458572,
          60.42856999999999,
          59.310001,
          58.299999,
          56.864284999999995,
          56.975716000000006,
          56.52285799999999,
          56.220001,
          55.552856000000006,
          57.317142000000004,
          58.495716,
          59.635715000000005,
          59.335712,
          58.664288,
          58.625713,
          59.75,
          60.167141,
          60.487143999999994,
          60.685715,
          60.595715000000006,
          61.174285999999995,
          61.515713,
          60.621429000000006,
          60.781429,
          59.815716,
          62.18,
          62.258571999999994,
          62.048573,
          62.885715000000005,
          64.175713,
          64.204285,
          64.751427,
          65.237144,
          66.021431,
          66.024284,
          65.96714,
          65.421425,
          64.807144,
          65.232857,
          66.864288,
          70.485718,
          69.86856800000001,
          71.26571700000001,
          72,
          71.545715,
          71.599998,
          71.171425,
          71.335716,
          71.5,
          69.471428,
          69.428574,
          70.16143000000001,
          69.5,
          69.621429,
          70.897141,
          70.519997,
          69.992859,
          71.925713,
          69.928574,
          66.40142800000001,
          66.572861,
          66.385712,
          63.888573,
          63.92856999999999,
          65.808571,
          67.035713,
          66.571426,
          68.942856,
          69.688568,
          68.775711,
          69.128571,
          68.674286,
          67.772858,
          68.339996,
          69.10714,
          68.677139,
          68.371429,
          69.335716,
          68.648575,
          68.325714,
          69.577141,
          69.308571,
          69.907143,
          70.788574,
          71.318573,
          71.382858,
          72.244286,
          73.074287,
          72.575714,
          74.14286,
          74.635712,
          75.01571700000001,
          74.744286,
          73.505714,
          73.860001,
          74.46714,
          73.691429,
          74.11571500000001,
          74.714287,
          74.028572,
          73.197144,
          73.227142,
          73.487144,
          73.85714,
          73.851425,
          74.552856,
          74.927139,
          74.028572,
          73.995712,
          73.475716,
          73.38143199999999,
          74.075714,
          74.428574,
          74.85714,
          76.199997,
          78.25856800000001,
          78.688568,
          79.668571,
          80.117142,
          80.915718,
          79.938568,
          80.128571,
          80.171425,
          79.955711,
          80.004288,
          79.095711,
          79.28714000000001,
          79.054283,
          76.971428,
          77.675713,
          77.831429,
          80.394287,
          80.861427,
          80.482857,
          79.928574,
          78.902855,
          79.14286,
          78.860001,
          77.204285,
          76.228569,
          76.845711,
          76.955711,
          76.478569,
          75.872856,
          75.697144,
          76.808571,
          78.808571,
          78.811432,
          77.128571,
          77.20285799999999,
          78.25856800000001,
          77.83000200000001,
          77.821426,
          77.964287,
          71.724289,
          71.23143,
          70.957146,
          70.507141,
          71.328575,
          71.822861,
          72.321426,
          72.544289,
          73.91143000000001,
          74,
          75.64286,
          76.177139
         ],
         "name": "Features",
         "open": [
          62.157143000000005,
          63.494285999999995,
          63.111427,
          64.47285500000001,
          65.101425,
          66.424286,
          65.577141,
          65.687141,
          65.424286,
          64.501427,
          64.835716,
          62.737143999999994,
          60.462856,
          62.721428,
          61.701427,
          62.592856999999995,
          63.435715,
          62.278572,
          62.978573,
          64.271431,
          62.85714300000001,
          63.664288,
          64.64286,
          64.389999,
          64.745712,
          63.664288,
          63.638573,
          62.35714300000001,
          63.532856,
          62.248573,
          62.785713,
          61.785713,
          62.200001,
          61.634285,
          61.651428,
          61.628570999999994,
          59.900002,
          59.784286,
          58.200001,
          57.957142000000005,
          57.700001,
          57.035713,
          55.908573,
          57.527142000000005,
          58.565716,
          60.122856000000006,
          60.055714,
          60.015713,
          59.085712,
          59.942856000000006,
          60.421429,
          61.092856999999995,
          60.715714,
          60.931427,
          61.385715000000005,
          61.91143,
          61.871429000000006,
          61.351429,
          60.85714300000001,
          62.704285,
          62.957142000000005,
          62.185715,
          62.971428,
          64.279999,
          64.998573,
          65.10714,
          65.43,
          66.38428499999999,
          66.860001,
          66.257141,
          66.26571700000001,
          65.519997,
          65.26571700000001,
          67.27714499999999,
          71.12571700000001,
          70.91714499999999,
          71.449997,
          72.048569,
          72.815712,
          71.941429,
          72.139999,
          71.895714,
          71.535713,
          71.14286,
          69.428574,
          70.235718,
          70.285713,
          70.442856,
          71.36571500000001,
          71.464287,
          71.205711,
          72.14286,
          72.314285,
          66.715714,
          66.928574,
          67.048569,
          65.85714,
          63.994285999999995,
          66.168571,
          67.242859,
          68.285713,
          70.871429,
          70.697144,
          69.885712,
          69.428574,
          69.111427,
          68.178574,
          68.349998,
          69.37571700000001,
          70.072861,
          69.122856,
          69.50856800000001,
          69.99143199999999,
          69.23428299999999,
          70.188568,
          69.57,
          69.975716,
          71.072861,
          71.541428,
          71.425713,
          72.284286,
          73.110001,
          75.201431,
          74.14286,
          75,
          75.902855,
          75.577141,
          76.610001,
          74.230003,
          75,
          74.860001,
          74.442856,
          74.940002,
          74.878571,
          74.225716,
          73.511429,
          74.284286,
          73.95285799999999,
          74,
          74.687141,
          75.225716,
          74.998573,
          74.147141,
          74.175713,
          73.942856,
          74.21714,
          74.431427,
          74.87428299999999,
          76.61571500000001,
          78.497147,
          79.714287,
          79.757141,
          80.785713,
          81.807144,
          80.827141,
          80.128571,
          80.511429,
          81,
          80.305717,
          80.407143,
          79.288574,
          79.40142800000001,
          78.528572,
          78.5,
          77.918571,
          81.14286,
          81.41285699999999,
          81.157143,
          80.545715,
          79.637146,
          79.16714499999999,
          79.382858,
          78.980003,
          76.778572,
          77.760002,
          76.97285500000001,
          78.114288,
          77.11856800000001,
          75.701431,
          76.888573,
          79.074287,
          79.271431,
          78.78286,
          77.284286,
          78.701431,
          78.562859,
          79.14286,
          78.581429,
          72.68,
          71.992859,
          71.791428,
          70.739998,
          71.80143000000001,
          72.264282,
          72.36571500000001,
          72.86571500000001,
          74.482857,
          74.094284,
          75.80143000000001,
          76.707146
         ],
         "type": "candlestick",
         "x": [
          "2013-04-30",
          "2013-05-01",
          "2013-05-02",
          "2013-05-03",
          "2013-05-06",
          "2013-05-07",
          "2013-05-08",
          "2013-05-09",
          "2013-05-10",
          "2013-05-13",
          "2013-05-14",
          "2013-05-15",
          "2013-05-16",
          "2013-05-17",
          "2013-05-20",
          "2013-05-21",
          "2013-05-22",
          "2013-05-23",
          "2013-05-24",
          "2013-05-28",
          "2013-05-29",
          "2013-05-30",
          "2013-05-31",
          "2013-06-03",
          "2013-06-04",
          "2013-06-05",
          "2013-06-06",
          "2013-06-07",
          "2013-06-10",
          "2013-06-11",
          "2013-06-12",
          "2013-06-13",
          "2013-06-14",
          "2013-06-17",
          "2013-06-18",
          "2013-06-19",
          "2013-06-20",
          "2013-06-21",
          "2013-06-24",
          "2013-06-25",
          "2013-06-26",
          "2013-06-27",
          "2013-06-28",
          "2013-07-01",
          "2013-07-02",
          "2013-07-03",
          "2013-07-05",
          "2013-07-08",
          "2013-07-09",
          "2013-07-10",
          "2013-07-11",
          "2013-07-12",
          "2013-07-15",
          "2013-07-16",
          "2013-07-17",
          "2013-07-18",
          "2013-07-19",
          "2013-07-22",
          "2013-07-23",
          "2013-07-24",
          "2013-07-25",
          "2013-07-26",
          "2013-07-29",
          "2013-07-30",
          "2013-07-31",
          "2013-08-01",
          "2013-08-02",
          "2013-08-05",
          "2013-08-06",
          "2013-08-07",
          "2013-08-08",
          "2013-08-09",
          "2013-08-12",
          "2013-08-13",
          "2013-08-14",
          "2013-08-15",
          "2013-08-16",
          "2013-08-19",
          "2013-08-20",
          "2013-08-21",
          "2013-08-22",
          "2013-08-23",
          "2013-08-26",
          "2013-08-27",
          "2013-08-28",
          "2013-08-29",
          "2013-08-30",
          "2013-09-03",
          "2013-09-04",
          "2013-09-05",
          "2013-09-06",
          "2013-09-09",
          "2013-09-10",
          "2013-09-11",
          "2013-09-12",
          "2013-09-13",
          "2013-09-16",
          "2013-09-17",
          "2013-09-18",
          "2013-09-19",
          "2013-09-20",
          "2013-09-23",
          "2013-09-24",
          "2013-09-25",
          "2013-09-26",
          "2013-09-27",
          "2013-09-30",
          "2013-10-01",
          "2013-10-02",
          "2013-10-03",
          "2013-10-04",
          "2013-10-07",
          "2013-10-08",
          "2013-10-09",
          "2013-10-10",
          "2013-10-11",
          "2013-10-14",
          "2013-10-15",
          "2013-10-16",
          "2013-10-17",
          "2013-10-18",
          "2013-10-21",
          "2013-10-22",
          "2013-10-23",
          "2013-10-24",
          "2013-10-25",
          "2013-10-28",
          "2013-10-29",
          "2013-10-30",
          "2013-10-31",
          "2013-11-01",
          "2013-11-04",
          "2013-11-05",
          "2013-11-06",
          "2013-11-07",
          "2013-11-08",
          "2013-11-11",
          "2013-11-12",
          "2013-11-13",
          "2013-11-14",
          "2013-11-15",
          "2013-11-18",
          "2013-11-19",
          "2013-11-20",
          "2013-11-21",
          "2013-11-22",
          "2013-11-25",
          "2013-11-26",
          "2013-11-27",
          "2013-11-29",
          "2013-12-02",
          "2013-12-03",
          "2013-12-04",
          "2013-12-05",
          "2013-12-06",
          "2013-12-09",
          "2013-12-10",
          "2013-12-11",
          "2013-12-12",
          "2013-12-13",
          "2013-12-16",
          "2013-12-17",
          "2013-12-18",
          "2013-12-19",
          "2013-12-20",
          "2013-12-23",
          "2013-12-24",
          "2013-12-26",
          "2013-12-27",
          "2013-12-30",
          "2013-12-31",
          "2014-01-02",
          "2014-01-03",
          "2014-01-06",
          "2014-01-07",
          "2014-01-08",
          "2014-01-09",
          "2014-01-10",
          "2014-01-13",
          "2014-01-14",
          "2014-01-15",
          "2014-01-16",
          "2014-01-17",
          "2014-01-21",
          "2014-01-22",
          "2014-01-23",
          "2014-01-24",
          "2014-01-27",
          "2014-01-28",
          "2014-01-29",
          "2014-01-30",
          "2014-01-31",
          "2014-02-03",
          "2014-02-04",
          "2014-02-05",
          "2014-02-06",
          "2014-02-07",
          "2014-02-10",
          "2014-02-11",
          "2014-02-12"
         ]
        },
        {
         "marker": {
          "color": "red"
         },
         "name": "Target",
         "type": "scatter",
         "x": [
          "2014-03-14"
         ],
         "y": [
          75.541428
         ]
        }
       ],
       "layout": {
        "shapes": [
         {
          "line": {
           "color": "LightSeaGreen",
           "dash": "dashdot",
           "width": 2
          },
          "type": "line",
          "x0": 1392246000000,
          "x1": 1394751600000,
          "xref": "x",
          "y0": 77.775711,
          "y1": 77.775711,
          "yref": "y"
         },
         {
          "line": {
           "color": "LightSeaGreen",
           "dash": "dashdot",
           "width": 2
          },
          "type": "line",
          "x0": 1394751600000,
          "x1": 1394751600000,
          "xref": "x",
          "y0": 77.775711,
          "y1": 75.541428,
          "yref": "y"
         }
        ],
        "template": {
         "data": {
          "bar": [
           {
            "error_x": {
             "color": "#2a3f5f"
            },
            "error_y": {
             "color": "#2a3f5f"
            },
            "marker": {
             "line": {
              "color": "#E5ECF6",
              "width": 0.5
             }
            },
            "type": "bar"
           }
          ],
          "barpolar": [
           {
            "marker": {
             "line": {
              "color": "#E5ECF6",
              "width": 0.5
             }
            },
            "type": "barpolar"
           }
          ],
          "carpet": [
           {
            "aaxis": {
             "endlinecolor": "#2a3f5f",
             "gridcolor": "white",
             "linecolor": "white",
             "minorgridcolor": "white",
             "startlinecolor": "#2a3f5f"
            },
            "baxis": {
             "endlinecolor": "#2a3f5f",
             "gridcolor": "white",
             "linecolor": "white",
             "minorgridcolor": "white",
             "startlinecolor": "#2a3f5f"
            },
            "type": "carpet"
           }
          ],
          "choropleth": [
           {
            "colorbar": {
             "outlinewidth": 0,
             "ticks": ""
            },
            "type": "choropleth"
           }
          ],
          "contour": [
           {
            "colorbar": {
             "outlinewidth": 0,
             "ticks": ""
            },
            "colorscale": [
             [
              0,
              "#0d0887"
             ],
             [
              0.1111111111111111,
              "#46039f"
             ],
             [
              0.2222222222222222,
              "#7201a8"
             ],
             [
              0.3333333333333333,
              "#9c179e"
             ],
             [
              0.4444444444444444,
              "#bd3786"
             ],
             [
              0.5555555555555556,
              "#d8576b"
             ],
             [
              0.6666666666666666,
              "#ed7953"
             ],
             [
              0.7777777777777778,
              "#fb9f3a"
             ],
             [
              0.8888888888888888,
              "#fdca26"
             ],
             [
              1,
              "#f0f921"
             ]
            ],
            "type": "contour"
           }
          ],
          "contourcarpet": [
           {
            "colorbar": {
             "outlinewidth": 0,
             "ticks": ""
            },
            "type": "contourcarpet"
           }
          ],
          "heatmap": [
           {
            "colorbar": {
             "outlinewidth": 0,
             "ticks": ""
            },
            "colorscale": [
             [
              0,
              "#0d0887"
             ],
             [
              0.1111111111111111,
              "#46039f"
             ],
             [
              0.2222222222222222,
              "#7201a8"
             ],
             [
              0.3333333333333333,
              "#9c179e"
             ],
             [
              0.4444444444444444,
              "#bd3786"
             ],
             [
              0.5555555555555556,
              "#d8576b"
             ],
             [
              0.6666666666666666,
              "#ed7953"
             ],
             [
              0.7777777777777778,
              "#fb9f3a"
             ],
             [
              0.8888888888888888,
              "#fdca26"
             ],
             [
              1,
              "#f0f921"
             ]
            ],
            "type": "heatmap"
           }
          ],
          "heatmapgl": [
           {
            "colorbar": {
             "outlinewidth": 0,
             "ticks": ""
            },
            "colorscale": [
             [
              0,
              "#0d0887"
             ],
             [
              0.1111111111111111,
              "#46039f"
             ],
             [
              0.2222222222222222,
              "#7201a8"
             ],
             [
              0.3333333333333333,
              "#9c179e"
             ],
             [
              0.4444444444444444,
              "#bd3786"
             ],
             [
              0.5555555555555556,
              "#d8576b"
             ],
             [
              0.6666666666666666,
              "#ed7953"
             ],
             [
              0.7777777777777778,
              "#fb9f3a"
             ],
             [
              0.8888888888888888,
              "#fdca26"
             ],
             [
              1,
              "#f0f921"
             ]
            ],
            "type": "heatmapgl"
           }
          ],
          "histogram": [
           {
            "marker": {
             "colorbar": {
              "outlinewidth": 0,
              "ticks": ""
             }
            },
            "type": "histogram"
           }
          ],
          "histogram2d": [
           {
            "colorbar": {
             "outlinewidth": 0,
             "ticks": ""
            },
            "colorscale": [
             [
              0,
              "#0d0887"
             ],
             [
              0.1111111111111111,
              "#46039f"
             ],
             [
              0.2222222222222222,
              "#7201a8"
             ],
             [
              0.3333333333333333,
              "#9c179e"
             ],
             [
              0.4444444444444444,
              "#bd3786"
             ],
             [
              0.5555555555555556,
              "#d8576b"
             ],
             [
              0.6666666666666666,
              "#ed7953"
             ],
             [
              0.7777777777777778,
              "#fb9f3a"
             ],
             [
              0.8888888888888888,
              "#fdca26"
             ],
             [
              1,
              "#f0f921"
             ]
            ],
            "type": "histogram2d"
           }
          ],
          "histogram2dcontour": [
           {
            "colorbar": {
             "outlinewidth": 0,
             "ticks": ""
            },
            "colorscale": [
             [
              0,
              "#0d0887"
             ],
             [
              0.1111111111111111,
              "#46039f"
             ],
             [
              0.2222222222222222,
              "#7201a8"
             ],
             [
              0.3333333333333333,
              "#9c179e"
             ],
             [
              0.4444444444444444,
              "#bd3786"
             ],
             [
              0.5555555555555556,
              "#d8576b"
             ],
             [
              0.6666666666666666,
              "#ed7953"
             ],
             [
              0.7777777777777778,
              "#fb9f3a"
             ],
             [
              0.8888888888888888,
              "#fdca26"
             ],
             [
              1,
              "#f0f921"
             ]
            ],
            "type": "histogram2dcontour"
           }
          ],
          "mesh3d": [
           {
            "colorbar": {
             "outlinewidth": 0,
             "ticks": ""
            },
            "type": "mesh3d"
           }
          ],
          "parcoords": [
           {
            "line": {
             "colorbar": {
              "outlinewidth": 0,
              "ticks": ""
             }
            },
            "type": "parcoords"
           }
          ],
          "pie": [
           {
            "automargin": true,
            "type": "pie"
           }
          ],
          "scatter": [
           {
            "marker": {
             "colorbar": {
              "outlinewidth": 0,
              "ticks": ""
             }
            },
            "type": "scatter"
           }
          ],
          "scatter3d": [
           {
            "line": {
             "colorbar": {
              "outlinewidth": 0,
              "ticks": ""
             }
            },
            "marker": {
             "colorbar": {
              "outlinewidth": 0,
              "ticks": ""
             }
            },
            "type": "scatter3d"
           }
          ],
          "scattercarpet": [
           {
            "marker": {
             "colorbar": {
              "outlinewidth": 0,
              "ticks": ""
             }
            },
            "type": "scattercarpet"
           }
          ],
          "scattergeo": [
           {
            "marker": {
             "colorbar": {
              "outlinewidth": 0,
              "ticks": ""
             }
            },
            "type": "scattergeo"
           }
          ],
          "scattergl": [
           {
            "marker": {
             "colorbar": {
              "outlinewidth": 0,
              "ticks": ""
             }
            },
            "type": "scattergl"
           }
          ],
          "scattermapbox": [
           {
            "marker": {
             "colorbar": {
              "outlinewidth": 0,
              "ticks": ""
             }
            },
            "type": "scattermapbox"
           }
          ],
          "scatterpolar": [
           {
            "marker": {
             "colorbar": {
              "outlinewidth": 0,
              "ticks": ""
             }
            },
            "type": "scatterpolar"
           }
          ],
          "scatterpolargl": [
           {
            "marker": {
             "colorbar": {
              "outlinewidth": 0,
              "ticks": ""
             }
            },
            "type": "scatterpolargl"
           }
          ],
          "scatterternary": [
           {
            "marker": {
             "colorbar": {
              "outlinewidth": 0,
              "ticks": ""
             }
            },
            "type": "scatterternary"
           }
          ],
          "surface": [
           {
            "colorbar": {
             "outlinewidth": 0,
             "ticks": ""
            },
            "colorscale": [
             [
              0,
              "#0d0887"
             ],
             [
              0.1111111111111111,
              "#46039f"
             ],
             [
              0.2222222222222222,
              "#7201a8"
             ],
             [
              0.3333333333333333,
              "#9c179e"
             ],
             [
              0.4444444444444444,
              "#bd3786"
             ],
             [
              0.5555555555555556,
              "#d8576b"
             ],
             [
              0.6666666666666666,
              "#ed7953"
             ],
             [
              0.7777777777777778,
              "#fb9f3a"
             ],
             [
              0.8888888888888888,
              "#fdca26"
             ],
             [
              1,
              "#f0f921"
             ]
            ],
            "type": "surface"
           }
          ],
          "table": [
           {
            "cells": {
             "fill": {
              "color": "#EBF0F8"
             },
             "line": {
              "color": "white"
             }
            },
            "header": {
             "fill": {
              "color": "#C8D4E3"
             },
             "line": {
              "color": "white"
             }
            },
            "type": "table"
           }
          ]
         },
         "layout": {
          "annotationdefaults": {
           "arrowcolor": "#2a3f5f",
           "arrowhead": 0,
           "arrowwidth": 1
          },
          "coloraxis": {
           "colorbar": {
            "outlinewidth": 0,
            "ticks": ""
           }
          },
          "colorscale": {
           "diverging": [
            [
             0,
             "#8e0152"
            ],
            [
             0.1,
             "#c51b7d"
            ],
            [
             0.2,
             "#de77ae"
            ],
            [
             0.3,
             "#f1b6da"
            ],
            [
             0.4,
             "#fde0ef"
            ],
            [
             0.5,
             "#f7f7f7"
            ],
            [
             0.6,
             "#e6f5d0"
            ],
            [
             0.7,
             "#b8e186"
            ],
            [
             0.8,
             "#7fbc41"
            ],
            [
             0.9,
             "#4d9221"
            ],
            [
             1,
             "#276419"
            ]
           ],
           "sequential": [
            [
             0,
             "#0d0887"
            ],
            [
             0.1111111111111111,
             "#46039f"
            ],
            [
             0.2222222222222222,
             "#7201a8"
            ],
            [
             0.3333333333333333,
             "#9c179e"
            ],
            [
             0.4444444444444444,
             "#bd3786"
            ],
            [
             0.5555555555555556,
             "#d8576b"
            ],
            [
             0.6666666666666666,
             "#ed7953"
            ],
            [
             0.7777777777777778,
             "#fb9f3a"
            ],
            [
             0.8888888888888888,
             "#fdca26"
            ],
            [
             1,
             "#f0f921"
            ]
           ],
           "sequentialminus": [
            [
             0,
             "#0d0887"
            ],
            [
             0.1111111111111111,
             "#46039f"
            ],
            [
             0.2222222222222222,
             "#7201a8"
            ],
            [
             0.3333333333333333,
             "#9c179e"
            ],
            [
             0.4444444444444444,
             "#bd3786"
            ],
            [
             0.5555555555555556,
             "#d8576b"
            ],
            [
             0.6666666666666666,
             "#ed7953"
            ],
            [
             0.7777777777777778,
             "#fb9f3a"
            ],
            [
             0.8888888888888888,
             "#fdca26"
            ],
            [
             1,
             "#f0f921"
            ]
           ]
          },
          "colorway": [
           "#636efa",
           "#EF553B",
           "#00cc96",
           "#ab63fa",
           "#FFA15A",
           "#19d3f3",
           "#FF6692",
           "#B6E880",
           "#FF97FF",
           "#FECB52"
          ],
          "font": {
           "color": "#2a3f5f"
          },
          "geo": {
           "bgcolor": "white",
           "lakecolor": "white",
           "landcolor": "#E5ECF6",
           "showlakes": true,
           "showland": true,
           "subunitcolor": "white"
          },
          "hoverlabel": {
           "align": "left"
          },
          "hovermode": "closest",
          "mapbox": {
           "style": "light"
          },
          "paper_bgcolor": "white",
          "plot_bgcolor": "#E5ECF6",
          "polar": {
           "angularaxis": {
            "gridcolor": "white",
            "linecolor": "white",
            "ticks": ""
           },
           "bgcolor": "#E5ECF6",
           "radialaxis": {
            "gridcolor": "white",
            "linecolor": "white",
            "ticks": ""
           }
          },
          "scene": {
           "xaxis": {
            "backgroundcolor": "#E5ECF6",
            "gridcolor": "white",
            "gridwidth": 2,
            "linecolor": "white",
            "showbackground": true,
            "ticks": "",
            "zerolinecolor": "white"
           },
           "yaxis": {
            "backgroundcolor": "#E5ECF6",
            "gridcolor": "white",
            "gridwidth": 2,
            "linecolor": "white",
            "showbackground": true,
            "ticks": "",
            "zerolinecolor": "white"
           },
           "zaxis": {
            "backgroundcolor": "#E5ECF6",
            "gridcolor": "white",
            "gridwidth": 2,
            "linecolor": "white",
            "showbackground": true,
            "ticks": "",
            "zerolinecolor": "white"
           }
          },
          "shapedefaults": {
           "line": {
            "color": "#2a3f5f"
           }
          },
          "ternary": {
           "aaxis": {
            "gridcolor": "white",
            "linecolor": "white",
            "ticks": ""
           },
           "baxis": {
            "gridcolor": "white",
            "linecolor": "white",
            "ticks": ""
           },
           "bgcolor": "#E5ECF6",
           "caxis": {
            "gridcolor": "white",
            "linecolor": "white",
            "ticks": ""
           }
          },
          "title": {
           "x": 0.05
          },
          "xaxis": {
           "automargin": true,
           "gridcolor": "white",
           "linecolor": "white",
           "ticks": "",
           "title": {
            "standoff": 15
           },
           "zerolinecolor": "white",
           "zerolinewidth": 2
          },
          "yaxis": {
           "automargin": true,
           "gridcolor": "white",
           "linecolor": "white",
           "ticks": "",
           "title": {
            "standoff": 15
           },
           "zerolinecolor": "white",
           "zerolinewidth": 2
          }
         }
        },
        "title": {
         "text": "Prediction process visualization"
        },
        "xaxis": {
         "title": {
          "text": "Date"
         }
        },
        "yaxis": {
         "title": {
          "text": "Stock price"
         }
        }
       }
      },
      "text/html": [
       "<div>\n",
       "        \n",
       "        \n",
       "            <div id=\"ec4af128-f802-4c60-9566-59e42f5a06ab\" class=\"plotly-graph-div\" style=\"height:525px; width:100%;\"></div>\n",
       "            <script type=\"text/javascript\">\n",
       "                require([\"plotly\"], function(Plotly) {\n",
       "                    window.PLOTLYENV=window.PLOTLYENV || {};\n",
       "                    \n",
       "                if (document.getElementById(\"ec4af128-f802-4c60-9566-59e42f5a06ab\")) {\n",
       "                    Plotly.newPlot(\n",
       "                        'ec4af128-f802-4c60-9566-59e42f5a06ab',\n",
       "                        [{\"close\": [63.254284, 62.755714000000005, 63.645714, 64.28286, 65.815712, 65.522858, 66.262856, 65.252853, 64.709999, 64.96285999999999, 63.408573, 61.264286, 62.082859, 61.894287, 63.275715000000005, 62.80857099999999, 63.049999, 63.162856999999995, 63.592856999999995, 63.062858999999996, 63.564285, 64.511429, 64.247147, 64.388573, 64.187141, 63.587143000000005, 62.637142000000004, 63.115715, 62.69857, 62.514286, 61.741428000000006, 62.279999, 61.435715, 61.714287, 61.681427, 60.42856999999999, 59.548573, 59.07143000000001, 57.505714000000005, 57.51857, 56.867142, 56.254284, 56.647144, 58.459998999999996, 59.784286, 60.114284999999995, 59.631428, 59.292857999999995, 60.335712, 60.104286, 61.041428, 60.93, 61.062858999999996, 61.457142000000005, 61.472857999999995, 61.68, 60.707142000000005, 60.901428, 59.855713, 62.93, 62.64285699999999, 62.998573, 63.970001, 64.760002, 64.647141, 65.239998, 66.077141, 67.064285, 66.464287, 66.425713, 65.858574, 64.921425, 66.76571700000001, 69.938568, 71.214287, 71.129997, 71.761429, 72.534286, 71.581429, 71.76571700000001, 71.851425, 71.574287, 71.852859, 69.798569, 70.128571, 70.242859, 69.602859, 69.79714200000001, 71.24143199999999, 70.752853, 71.174286, 72.309998, 70.66285699999999, 66.815712, 67.52714499999999, 66.414284, 64.302856, 65.045715, 66.382858, 67.471428, 66.772858, 70.091431, 69.871429, 68.790001, 69.459999, 68.964287, 68.10714, 69.708572, 69.937141, 69.058571, 69.004288, 69.678574, 68.705711, 69.512856, 69.94856999999999, 70.40142800000001, 70.862854, 71.239998, 71.58714300000001, 72.071426, 72.69856999999999, 74.480003, 74.267143, 74.994286, 75.987144, 75.137146, 75.697144, 73.811432, 74.985718, 74.671425, 74.290001, 75.25, 75.064285, 74.41714499999999, 73.21285999999999, 74.36571500000001, 74.150002, 74.28714000000001, 74.37571700000001, 75.451431, 74.998573, 74.089996, 74.221428, 73.571426, 74.44856999999999, 74.257141, 74.82, 76.199997, 77.994286, 79.438568, 78.747147, 80.902855, 80.714287, 81.128571, 80.002853, 80.918571, 80.792854, 80.194283, 80.077141, 79.204285, 79.64286, 79.284286, 78.681427, 77.779999, 78.431427, 81.441429, 81.095711, 80.557144, 80.012856, 79.21714, 80.145714, 79.01857, 77.28286, 77.704285, 77.148575, 77.637146, 76.645714, 76.13428499999999, 76.53286, 78.055717, 79.622856, 79.178574, 77.238571, 78.438568, 78.78714000000001, 79.454285, 78.010002, 78.64286, 72.35714, 71.535713, 71.397141, 71.514282, 71.647141, 72.684288, 73.227142, 73.215714, 74.239998, 75.57, 76.565712, 76.559998], \"high\": [63.60714300000001, 63.561428, 64.084282, 64.747147, 66.028572, 66.535713, 66.48143, 66.14286, 65.672859, 65.414284, 65.028572, 63.0, 62.549999, 62.869999, 63.685715, 63.639998999999996, 64.050003, 63.737143999999994, 63.665714, 64.444283, 63.92856999999999, 64.928574, 65.300003, 64.622856, 64.918571, 64.388573, 63.85714300000001, 63.32, 64.154289, 63.251427, 63.035713, 62.44857, 62.327144999999994, 62.242858999999996, 62.128570999999994, 61.665714, 60.854286, 60.0, 58.380001, 58.255714000000005, 57.827144999999994, 57.341427, 57.181427, 58.895714, 60.232856999999996, 60.425713, 60.470001, 60.14285699999999, 60.5, 60.685715, 61.17856999999999, 61.398571, 61.637142000000004, 61.529999, 61.745716, 62.124287, 61.99714300000001, 61.39285699999999, 60.994285999999995, 63.512856000000006, 63.057143999999994, 63.005714000000005, 64.284286, 65.307144, 65.334282, 65.257141, 66.121429, 67.238571, 67.41285699999999, 66.714287, 66.300003, 65.779999, 66.949997, 70.665718, 72.035713, 71.771431, 71.84857199999999, 73.391426, 72.938568, 72.449997, 72.227142, 71.907143, 72.885712, 71.78714000000001, 70.828575, 70.928574, 70.421425, 71.514282, 71.748573, 71.525711, 71.339996, 72.559998, 72.492859, 67.66999799999999, 67.914284, 67.404289, 65.944283, 65.672859, 66.621429, 67.975716, 68.364288, 70.987144, 70.781425, 69.94856999999999, 69.794289, 69.238571, 68.808571, 69.877144, 70.257141, 70.335716, 69.228569, 70.378571, 70.091431, 69.684288, 70.339996, 70.548569, 71.08285500000001, 71.714287, 71.790001, 72.111427, 72.751427, 74.900002, 75.492859, 75.095711, 76.067146, 76.175713, 75.85714, 77.035713, 75.360001, 75.355713, 74.971428, 75.260002, 75.555717, 74.980003, 74.74143199999999, 74.447144, 74.524284, 74.845711, 74.60714, 75.611427, 75.584282, 75.312859, 74.76857, 74.345711, 74.458572, 74.594284, 75.12428299999999, 76.591431, 78.0, 79.761429, 80.61856800000001, 80.91143000000001, 81.312859, 82.16285699999999, 80.964287, 81.36856800000001, 81.12571700000001, 81.567146, 80.762856, 80.41143000000001, 80.377144, 79.91999799999999, 78.778572, 78.571426, 78.80143000000001, 81.531425, 81.697144, 81.35714, 80.629997, 80.012856, 80.182854, 79.575714, 79.099998, 78.114288, 77.994286, 77.937141, 78.122856, 77.257141, 77.5, 78.104286, 80.028572, 79.550003, 78.867142, 78.581429, 79.612854, 79.5, 79.37428299999999, 79.257141, 73.571426, 72.48143, 72.35714, 71.647141, 72.53286, 72.779999, 73.611427, 73.35714, 74.704285, 75.998573, 76.821426, 77.08000200000001], \"low\": [61.724284999999995, 62.055714, 62.947143999999994, 64.164284, 64.90142800000001, 64.814285, 65.11571500000001, 65.08285500000001, 64.354286, 64.5, 63.164288, 60.337143000000005, 59.842856999999995, 61.57285699999999, 61.442856000000006, 62.028572, 62.602856, 62.255714000000005, 62.908573, 62.978573, 62.771427, 63.501427, 64.214287, 63.21143000000001, 63.912856999999995, 63.387142000000004, 62.007141000000004, 61.824287, 62.400002, 61.902859, 61.64285699999999, 61.25, 61.214287, 61.48, 61.458572, 60.42856999999999, 59.310001, 58.299999, 56.864284999999995, 56.975716000000006, 56.52285799999999, 56.220001, 55.552856000000006, 57.317142000000004, 58.495716, 59.635715000000005, 59.335712, 58.664288, 58.625713, 59.75, 60.167141, 60.487143999999994, 60.685715, 60.595715000000006, 61.174285999999995, 61.515713, 60.621429000000006, 60.781429, 59.815716, 62.18, 62.258571999999994, 62.048573, 62.885715000000005, 64.175713, 64.204285, 64.751427, 65.237144, 66.021431, 66.024284, 65.96714, 65.421425, 64.807144, 65.232857, 66.864288, 70.485718, 69.86856800000001, 71.26571700000001, 72.0, 71.545715, 71.599998, 71.171425, 71.335716, 71.5, 69.471428, 69.428574, 70.16143000000001, 69.5, 69.621429, 70.897141, 70.519997, 69.992859, 71.925713, 69.928574, 66.40142800000001, 66.572861, 66.385712, 63.888573, 63.92856999999999, 65.808571, 67.035713, 66.571426, 68.942856, 69.688568, 68.775711, 69.128571, 68.674286, 67.772858, 68.339996, 69.10714, 68.677139, 68.371429, 69.335716, 68.648575, 68.325714, 69.577141, 69.308571, 69.907143, 70.788574, 71.318573, 71.382858, 72.244286, 73.074287, 72.575714, 74.14286, 74.635712, 75.01571700000001, 74.744286, 73.505714, 73.860001, 74.46714, 73.691429, 74.11571500000001, 74.714287, 74.028572, 73.197144, 73.227142, 73.487144, 73.85714, 73.851425, 74.552856, 74.927139, 74.028572, 73.995712, 73.475716, 73.38143199999999, 74.075714, 74.428574, 74.85714, 76.199997, 78.25856800000001, 78.688568, 79.668571, 80.117142, 80.915718, 79.938568, 80.128571, 80.171425, 79.955711, 80.004288, 79.095711, 79.28714000000001, 79.054283, 76.971428, 77.675713, 77.831429, 80.394287, 80.861427, 80.482857, 79.928574, 78.902855, 79.14286, 78.860001, 77.204285, 76.228569, 76.845711, 76.955711, 76.478569, 75.872856, 75.697144, 76.808571, 78.808571, 78.811432, 77.128571, 77.20285799999999, 78.25856800000001, 77.83000200000001, 77.821426, 77.964287, 71.724289, 71.23143, 70.957146, 70.507141, 71.328575, 71.822861, 72.321426, 72.544289, 73.91143000000001, 74.0, 75.64286, 76.177139], \"name\": \"Features\", \"open\": [62.157143000000005, 63.494285999999995, 63.111427, 64.47285500000001, 65.101425, 66.424286, 65.577141, 65.687141, 65.424286, 64.501427, 64.835716, 62.737143999999994, 60.462856, 62.721428, 61.701427, 62.592856999999995, 63.435715, 62.278572, 62.978573, 64.271431, 62.85714300000001, 63.664288, 64.64286, 64.389999, 64.745712, 63.664288, 63.638573, 62.35714300000001, 63.532856, 62.248573, 62.785713, 61.785713, 62.200001, 61.634285, 61.651428, 61.628570999999994, 59.900002, 59.784286, 58.200001, 57.957142000000005, 57.700001, 57.035713, 55.908573, 57.527142000000005, 58.565716, 60.122856000000006, 60.055714, 60.015713, 59.085712, 59.942856000000006, 60.421429, 61.092856999999995, 60.715714, 60.931427, 61.385715000000005, 61.91143, 61.871429000000006, 61.351429, 60.85714300000001, 62.704285, 62.957142000000005, 62.185715, 62.971428, 64.279999, 64.998573, 65.10714, 65.43, 66.38428499999999, 66.860001, 66.257141, 66.26571700000001, 65.519997, 65.26571700000001, 67.27714499999999, 71.12571700000001, 70.91714499999999, 71.449997, 72.048569, 72.815712, 71.941429, 72.139999, 71.895714, 71.535713, 71.14286, 69.428574, 70.235718, 70.285713, 70.442856, 71.36571500000001, 71.464287, 71.205711, 72.14286, 72.314285, 66.715714, 66.928574, 67.048569, 65.85714, 63.994285999999995, 66.168571, 67.242859, 68.285713, 70.871429, 70.697144, 69.885712, 69.428574, 69.111427, 68.178574, 68.349998, 69.37571700000001, 70.072861, 69.122856, 69.50856800000001, 69.99143199999999, 69.23428299999999, 70.188568, 69.57, 69.975716, 71.072861, 71.541428, 71.425713, 72.284286, 73.110001, 75.201431, 74.14286, 75.0, 75.902855, 75.577141, 76.610001, 74.230003, 75.0, 74.860001, 74.442856, 74.940002, 74.878571, 74.225716, 73.511429, 74.284286, 73.95285799999999, 74.0, 74.687141, 75.225716, 74.998573, 74.147141, 74.175713, 73.942856, 74.21714, 74.431427, 74.87428299999999, 76.61571500000001, 78.497147, 79.714287, 79.757141, 80.785713, 81.807144, 80.827141, 80.128571, 80.511429, 81.0, 80.305717, 80.407143, 79.288574, 79.40142800000001, 78.528572, 78.5, 77.918571, 81.14286, 81.41285699999999, 81.157143, 80.545715, 79.637146, 79.16714499999999, 79.382858, 78.980003, 76.778572, 77.760002, 76.97285500000001, 78.114288, 77.11856800000001, 75.701431, 76.888573, 79.074287, 79.271431, 78.78286, 77.284286, 78.701431, 78.562859, 79.14286, 78.581429, 72.68, 71.992859, 71.791428, 70.739998, 71.80143000000001, 72.264282, 72.36571500000001, 72.86571500000001, 74.482857, 74.094284, 75.80143000000001, 76.707146], \"type\": \"candlestick\", \"x\": [\"2013-04-30\", \"2013-05-01\", \"2013-05-02\", \"2013-05-03\", \"2013-05-06\", \"2013-05-07\", \"2013-05-08\", \"2013-05-09\", \"2013-05-10\", \"2013-05-13\", \"2013-05-14\", \"2013-05-15\", \"2013-05-16\", \"2013-05-17\", \"2013-05-20\", \"2013-05-21\", \"2013-05-22\", \"2013-05-23\", \"2013-05-24\", \"2013-05-28\", \"2013-05-29\", \"2013-05-30\", \"2013-05-31\", \"2013-06-03\", \"2013-06-04\", \"2013-06-05\", \"2013-06-06\", \"2013-06-07\", \"2013-06-10\", \"2013-06-11\", \"2013-06-12\", \"2013-06-13\", \"2013-06-14\", \"2013-06-17\", \"2013-06-18\", \"2013-06-19\", \"2013-06-20\", \"2013-06-21\", \"2013-06-24\", \"2013-06-25\", \"2013-06-26\", \"2013-06-27\", \"2013-06-28\", \"2013-07-01\", \"2013-07-02\", \"2013-07-03\", \"2013-07-05\", \"2013-07-08\", \"2013-07-09\", \"2013-07-10\", \"2013-07-11\", \"2013-07-12\", \"2013-07-15\", \"2013-07-16\", \"2013-07-17\", \"2013-07-18\", \"2013-07-19\", \"2013-07-22\", \"2013-07-23\", \"2013-07-24\", \"2013-07-25\", \"2013-07-26\", \"2013-07-29\", \"2013-07-30\", \"2013-07-31\", \"2013-08-01\", \"2013-08-02\", \"2013-08-05\", \"2013-08-06\", \"2013-08-07\", \"2013-08-08\", \"2013-08-09\", \"2013-08-12\", \"2013-08-13\", \"2013-08-14\", \"2013-08-15\", \"2013-08-16\", \"2013-08-19\", \"2013-08-20\", \"2013-08-21\", \"2013-08-22\", \"2013-08-23\", \"2013-08-26\", \"2013-08-27\", \"2013-08-28\", \"2013-08-29\", \"2013-08-30\", \"2013-09-03\", \"2013-09-04\", \"2013-09-05\", \"2013-09-06\", \"2013-09-09\", \"2013-09-10\", \"2013-09-11\", \"2013-09-12\", \"2013-09-13\", \"2013-09-16\", \"2013-09-17\", \"2013-09-18\", \"2013-09-19\", \"2013-09-20\", \"2013-09-23\", \"2013-09-24\", \"2013-09-25\", \"2013-09-26\", \"2013-09-27\", \"2013-09-30\", \"2013-10-01\", \"2013-10-02\", \"2013-10-03\", \"2013-10-04\", \"2013-10-07\", \"2013-10-08\", \"2013-10-09\", \"2013-10-10\", \"2013-10-11\", \"2013-10-14\", \"2013-10-15\", \"2013-10-16\", \"2013-10-17\", \"2013-10-18\", \"2013-10-21\", \"2013-10-22\", \"2013-10-23\", \"2013-10-24\", \"2013-10-25\", \"2013-10-28\", \"2013-10-29\", \"2013-10-30\", \"2013-10-31\", \"2013-11-01\", \"2013-11-04\", \"2013-11-05\", \"2013-11-06\", \"2013-11-07\", \"2013-11-08\", \"2013-11-11\", \"2013-11-12\", \"2013-11-13\", \"2013-11-14\", \"2013-11-15\", \"2013-11-18\", \"2013-11-19\", \"2013-11-20\", \"2013-11-21\", \"2013-11-22\", \"2013-11-25\", \"2013-11-26\", \"2013-11-27\", \"2013-11-29\", \"2013-12-02\", \"2013-12-03\", \"2013-12-04\", \"2013-12-05\", \"2013-12-06\", \"2013-12-09\", \"2013-12-10\", \"2013-12-11\", \"2013-12-12\", \"2013-12-13\", \"2013-12-16\", \"2013-12-17\", \"2013-12-18\", \"2013-12-19\", \"2013-12-20\", \"2013-12-23\", \"2013-12-24\", \"2013-12-26\", \"2013-12-27\", \"2013-12-30\", \"2013-12-31\", \"2014-01-02\", \"2014-01-03\", \"2014-01-06\", \"2014-01-07\", \"2014-01-08\", \"2014-01-09\", \"2014-01-10\", \"2014-01-13\", \"2014-01-14\", \"2014-01-15\", \"2014-01-16\", \"2014-01-17\", \"2014-01-21\", \"2014-01-22\", \"2014-01-23\", \"2014-01-24\", \"2014-01-27\", \"2014-01-28\", \"2014-01-29\", \"2014-01-30\", \"2014-01-31\", \"2014-02-03\", \"2014-02-04\", \"2014-02-05\", \"2014-02-06\", \"2014-02-07\", \"2014-02-10\", \"2014-02-11\", \"2014-02-12\"]}, {\"marker\": {\"color\": \"red\"}, \"name\": \"Target\", \"type\": \"scatter\", \"x\": [\"2014-03-14\"], \"y\": [75.541428]}],\n",
       "                        {\"shapes\": [{\"line\": {\"color\": \"LightSeaGreen\", \"dash\": \"dashdot\", \"width\": 2}, \"type\": \"line\", \"x0\": 1392246000000, \"x1\": 1394751600000, \"xref\": \"x\", \"y0\": 77.775711, \"y1\": 77.775711, \"yref\": \"y\"}, {\"line\": {\"color\": \"LightSeaGreen\", \"dash\": \"dashdot\", \"width\": 2}, \"type\": \"line\", \"x0\": 1394751600000, \"x1\": 1394751600000, \"xref\": \"x\", \"y0\": 77.775711, \"y1\": 75.541428, \"yref\": \"y\"}], \"template\": {\"data\": {\"bar\": [{\"error_x\": {\"color\": \"#2a3f5f\"}, \"error_y\": {\"color\": \"#2a3f5f\"}, \"marker\": {\"line\": {\"color\": \"#E5ECF6\", \"width\": 0.5}}, \"type\": \"bar\"}], \"barpolar\": [{\"marker\": {\"line\": {\"color\": \"#E5ECF6\", \"width\": 0.5}}, \"type\": \"barpolar\"}], \"carpet\": [{\"aaxis\": {\"endlinecolor\": \"#2a3f5f\", \"gridcolor\": \"white\", \"linecolor\": \"white\", \"minorgridcolor\": \"white\", \"startlinecolor\": \"#2a3f5f\"}, \"baxis\": {\"endlinecolor\": \"#2a3f5f\", \"gridcolor\": \"white\", \"linecolor\": \"white\", \"minorgridcolor\": \"white\", \"startlinecolor\": \"#2a3f5f\"}, \"type\": \"carpet\"}], \"choropleth\": [{\"colorbar\": {\"outlinewidth\": 0, \"ticks\": \"\"}, \"type\": \"choropleth\"}], \"contour\": [{\"colorbar\": {\"outlinewidth\": 0, \"ticks\": \"\"}, \"colorscale\": [[0.0, \"#0d0887\"], [0.1111111111111111, \"#46039f\"], [0.2222222222222222, \"#7201a8\"], [0.3333333333333333, \"#9c179e\"], [0.4444444444444444, \"#bd3786\"], [0.5555555555555556, \"#d8576b\"], [0.6666666666666666, \"#ed7953\"], [0.7777777777777778, \"#fb9f3a\"], [0.8888888888888888, \"#fdca26\"], [1.0, \"#f0f921\"]], \"type\": \"contour\"}], \"contourcarpet\": [{\"colorbar\": {\"outlinewidth\": 0, \"ticks\": \"\"}, \"type\": \"contourcarpet\"}], \"heatmap\": [{\"colorbar\": {\"outlinewidth\": 0, \"ticks\": \"\"}, \"colorscale\": [[0.0, \"#0d0887\"], [0.1111111111111111, \"#46039f\"], [0.2222222222222222, \"#7201a8\"], [0.3333333333333333, \"#9c179e\"], [0.4444444444444444, \"#bd3786\"], [0.5555555555555556, \"#d8576b\"], [0.6666666666666666, \"#ed7953\"], [0.7777777777777778, \"#fb9f3a\"], [0.8888888888888888, \"#fdca26\"], [1.0, \"#f0f921\"]], \"type\": \"heatmap\"}], \"heatmapgl\": [{\"colorbar\": {\"outlinewidth\": 0, \"ticks\": \"\"}, \"colorscale\": [[0.0, \"#0d0887\"], [0.1111111111111111, \"#46039f\"], [0.2222222222222222, \"#7201a8\"], [0.3333333333333333, \"#9c179e\"], [0.4444444444444444, \"#bd3786\"], [0.5555555555555556, \"#d8576b\"], [0.6666666666666666, \"#ed7953\"], [0.7777777777777778, \"#fb9f3a\"], [0.8888888888888888, \"#fdca26\"], [1.0, \"#f0f921\"]], \"type\": \"heatmapgl\"}], \"histogram\": [{\"marker\": {\"colorbar\": {\"outlinewidth\": 0, \"ticks\": \"\"}}, \"type\": \"histogram\"}], \"histogram2d\": [{\"colorbar\": {\"outlinewidth\": 0, \"ticks\": \"\"}, \"colorscale\": [[0.0, \"#0d0887\"], [0.1111111111111111, \"#46039f\"], [0.2222222222222222, \"#7201a8\"], [0.3333333333333333, \"#9c179e\"], [0.4444444444444444, \"#bd3786\"], [0.5555555555555556, \"#d8576b\"], [0.6666666666666666, \"#ed7953\"], [0.7777777777777778, \"#fb9f3a\"], [0.8888888888888888, \"#fdca26\"], [1.0, \"#f0f921\"]], \"type\": \"histogram2d\"}], \"histogram2dcontour\": [{\"colorbar\": {\"outlinewidth\": 0, \"ticks\": \"\"}, \"colorscale\": [[0.0, \"#0d0887\"], [0.1111111111111111, \"#46039f\"], [0.2222222222222222, \"#7201a8\"], [0.3333333333333333, \"#9c179e\"], [0.4444444444444444, \"#bd3786\"], [0.5555555555555556, \"#d8576b\"], [0.6666666666666666, \"#ed7953\"], [0.7777777777777778, \"#fb9f3a\"], [0.8888888888888888, \"#fdca26\"], [1.0, \"#f0f921\"]], \"type\": \"histogram2dcontour\"}], \"mesh3d\": [{\"colorbar\": {\"outlinewidth\": 0, \"ticks\": \"\"}, \"type\": \"mesh3d\"}], \"parcoords\": [{\"line\": {\"colorbar\": {\"outlinewidth\": 0, \"ticks\": \"\"}}, \"type\": \"parcoords\"}], \"pie\": [{\"automargin\": true, \"type\": \"pie\"}], \"scatter\": [{\"marker\": {\"colorbar\": {\"outlinewidth\": 0, \"ticks\": \"\"}}, \"type\": \"scatter\"}], \"scatter3d\": [{\"line\": {\"colorbar\": {\"outlinewidth\": 0, \"ticks\": \"\"}}, \"marker\": {\"colorbar\": {\"outlinewidth\": 0, \"ticks\": \"\"}}, \"type\": \"scatter3d\"}], \"scattercarpet\": [{\"marker\": {\"colorbar\": {\"outlinewidth\": 0, \"ticks\": \"\"}}, \"type\": \"scattercarpet\"}], \"scattergeo\": [{\"marker\": {\"colorbar\": {\"outlinewidth\": 0, \"ticks\": \"\"}}, \"type\": \"scattergeo\"}], \"scattergl\": [{\"marker\": {\"colorbar\": {\"outlinewidth\": 0, \"ticks\": \"\"}}, \"type\": \"scattergl\"}], \"scattermapbox\": [{\"marker\": {\"colorbar\": {\"outlinewidth\": 0, \"ticks\": \"\"}}, \"type\": \"scattermapbox\"}], \"scatterpolar\": [{\"marker\": {\"colorbar\": {\"outlinewidth\": 0, \"ticks\": \"\"}}, \"type\": \"scatterpolar\"}], \"scatterpolargl\": [{\"marker\": {\"colorbar\": {\"outlinewidth\": 0, \"ticks\": \"\"}}, \"type\": \"scatterpolargl\"}], \"scatterternary\": [{\"marker\": {\"colorbar\": {\"outlinewidth\": 0, \"ticks\": \"\"}}, \"type\": \"scatterternary\"}], \"surface\": [{\"colorbar\": {\"outlinewidth\": 0, \"ticks\": \"\"}, \"colorscale\": [[0.0, \"#0d0887\"], [0.1111111111111111, \"#46039f\"], [0.2222222222222222, \"#7201a8\"], [0.3333333333333333, \"#9c179e\"], [0.4444444444444444, \"#bd3786\"], [0.5555555555555556, \"#d8576b\"], [0.6666666666666666, \"#ed7953\"], [0.7777777777777778, \"#fb9f3a\"], [0.8888888888888888, \"#fdca26\"], [1.0, \"#f0f921\"]], \"type\": \"surface\"}], \"table\": [{\"cells\": {\"fill\": {\"color\": \"#EBF0F8\"}, \"line\": {\"color\": \"white\"}}, \"header\": {\"fill\": {\"color\": \"#C8D4E3\"}, \"line\": {\"color\": \"white\"}}, \"type\": \"table\"}]}, \"layout\": {\"annotationdefaults\": {\"arrowcolor\": \"#2a3f5f\", \"arrowhead\": 0, \"arrowwidth\": 1}, \"coloraxis\": {\"colorbar\": {\"outlinewidth\": 0, \"ticks\": \"\"}}, \"colorscale\": {\"diverging\": [[0, \"#8e0152\"], [0.1, \"#c51b7d\"], [0.2, \"#de77ae\"], [0.3, \"#f1b6da\"], [0.4, \"#fde0ef\"], [0.5, \"#f7f7f7\"], [0.6, \"#e6f5d0\"], [0.7, \"#b8e186\"], [0.8, \"#7fbc41\"], [0.9, \"#4d9221\"], [1, \"#276419\"]], \"sequential\": [[0.0, \"#0d0887\"], [0.1111111111111111, \"#46039f\"], [0.2222222222222222, \"#7201a8\"], [0.3333333333333333, \"#9c179e\"], [0.4444444444444444, \"#bd3786\"], [0.5555555555555556, \"#d8576b\"], [0.6666666666666666, \"#ed7953\"], [0.7777777777777778, \"#fb9f3a\"], [0.8888888888888888, \"#fdca26\"], [1.0, \"#f0f921\"]], \"sequentialminus\": [[0.0, \"#0d0887\"], [0.1111111111111111, \"#46039f\"], [0.2222222222222222, \"#7201a8\"], [0.3333333333333333, \"#9c179e\"], [0.4444444444444444, \"#bd3786\"], [0.5555555555555556, \"#d8576b\"], [0.6666666666666666, \"#ed7953\"], [0.7777777777777778, \"#fb9f3a\"], [0.8888888888888888, \"#fdca26\"], [1.0, \"#f0f921\"]]}, \"colorway\": [\"#636efa\", \"#EF553B\", \"#00cc96\", \"#ab63fa\", \"#FFA15A\", \"#19d3f3\", \"#FF6692\", \"#B6E880\", \"#FF97FF\", \"#FECB52\"], \"font\": {\"color\": \"#2a3f5f\"}, \"geo\": {\"bgcolor\": \"white\", \"lakecolor\": \"white\", \"landcolor\": \"#E5ECF6\", \"showlakes\": true, \"showland\": true, \"subunitcolor\": \"white\"}, \"hoverlabel\": {\"align\": \"left\"}, \"hovermode\": \"closest\", \"mapbox\": {\"style\": \"light\"}, \"paper_bgcolor\": \"white\", \"plot_bgcolor\": \"#E5ECF6\", \"polar\": {\"angularaxis\": {\"gridcolor\": \"white\", \"linecolor\": \"white\", \"ticks\": \"\"}, \"bgcolor\": \"#E5ECF6\", \"radialaxis\": {\"gridcolor\": \"white\", \"linecolor\": \"white\", \"ticks\": \"\"}}, \"scene\": {\"xaxis\": {\"backgroundcolor\": \"#E5ECF6\", \"gridcolor\": \"white\", \"gridwidth\": 2, \"linecolor\": \"white\", \"showbackground\": true, \"ticks\": \"\", \"zerolinecolor\": \"white\"}, \"yaxis\": {\"backgroundcolor\": \"#E5ECF6\", \"gridcolor\": \"white\", \"gridwidth\": 2, \"linecolor\": \"white\", \"showbackground\": true, \"ticks\": \"\", \"zerolinecolor\": \"white\"}, \"zaxis\": {\"backgroundcolor\": \"#E5ECF6\", \"gridcolor\": \"white\", \"gridwidth\": 2, \"linecolor\": \"white\", \"showbackground\": true, \"ticks\": \"\", \"zerolinecolor\": \"white\"}}, \"shapedefaults\": {\"line\": {\"color\": \"#2a3f5f\"}}, \"ternary\": {\"aaxis\": {\"gridcolor\": \"white\", \"linecolor\": \"white\", \"ticks\": \"\"}, \"baxis\": {\"gridcolor\": \"white\", \"linecolor\": \"white\", \"ticks\": \"\"}, \"bgcolor\": \"#E5ECF6\", \"caxis\": {\"gridcolor\": \"white\", \"linecolor\": \"white\", \"ticks\": \"\"}}, \"title\": {\"x\": 0.05}, \"xaxis\": {\"automargin\": true, \"gridcolor\": \"white\", \"linecolor\": \"white\", \"ticks\": \"\", \"title\": {\"standoff\": 15}, \"zerolinecolor\": \"white\", \"zerolinewidth\": 2}, \"yaxis\": {\"automargin\": true, \"gridcolor\": \"white\", \"linecolor\": \"white\", \"ticks\": \"\", \"title\": {\"standoff\": 15}, \"zerolinecolor\": \"white\", \"zerolinewidth\": 2}}}, \"title\": {\"text\": \"Prediction process visualization\"}, \"xaxis\": {\"title\": {\"text\": \"Date\"}}, \"yaxis\": {\"title\": {\"text\": \"Stock price\"}}},\n",
       "                        {\"responsive\": true}\n",
       "                    ).then(function(){\n",
       "                            \n",
       "var gd = document.getElementById('ec4af128-f802-4c60-9566-59e42f5a06ab');\n",
       "var x = new MutationObserver(function (mutations, observer) {{\n",
       "        var display = window.getComputedStyle(gd).display;\n",
       "        if (!display || display === 'none') {{\n",
       "            console.log([gd, 'removed!']);\n",
       "            Plotly.purge(gd);\n",
       "            observer.disconnect();\n",
       "        }}\n",
       "}});\n",
       "\n",
       "// Listen for the removal of the full notebook cells\n",
       "var notebookContainer = gd.closest('#notebook-container');\n",
       "if (notebookContainer) {{\n",
       "    x.observe(notebookContainer, {childList: true});\n",
       "}}\n",
       "\n",
       "// Listen for the clearing of the current output cell\n",
       "var outputEl = gd.closest('.output');\n",
       "if (outputEl) {{\n",
       "    x.observe(outputEl, {childList: true});\n",
       "}}\n",
       "\n",
       "                        })\n",
       "                };\n",
       "                });\n",
       "            </script>\n",
       "        </div>"
      ]
     },
     "metadata": {},
     "output_type": "display_data"
    }
   ],
   "source": [
    "import plotly.graph_objects as go\n",
    "\n",
    "start = 2000\n",
    "\n",
    "observation_length = 200\n",
    "prediction_after = 20\n",
    "data_range = (start, start+observation_length)\n",
    "pred_on = data_range[1] + prediction_after \n",
    "\n",
    "x_df = df[data_range[0]:data_range[1]]\n",
    "\n",
    "fig = go.Figure()\n",
    "\n",
    "fig.add_trace(\n",
    "    go.Candlestick(x=x_df['Date'], \n",
    "                   open=x_df['Open'],\n",
    "                   high=x_df['High'],\n",
    "                   low=x_df['Low'],\n",
    "                   close=x_df['Close'],\n",
    "                   name=\"Features\")\n",
    ")\n",
    "\n",
    "fig.add_trace(\n",
    "    go.Scatter(x=[df['Date'][pred_on]],\n",
    "               y=[df['Open'][pred_on]],\n",
    "               name=\"Target\",\n",
    "               marker= {\n",
    "                   'color': \"red\"\n",
    "               })\n",
    ")\n",
    "\n",
    "shapes = [\n",
    "        {\n",
    "            'type': 'line',\n",
    "            'xref': 'x',\n",
    "            'yref': 'y',\n",
    "            'x0': daily_ts(df['Date'][data_range[1]]),\n",
    "            'y0': df['Close'][data_range[1]],\n",
    "            'x1': daily_ts(df['Date'][pred_on]),    \n",
    "            'y1': df['Close'][data_range[1]],\n",
    "            'line': {\n",
    "                'color': 'LightSeaGreen',\n",
    "                'width': 2,\n",
    "                'dash': 'dashdot'\n",
    "            }\n",
    "        },\n",
    "        {\n",
    "            'type': 'line',\n",
    "            'xref': 'x',\n",
    "            'yref': 'y',\n",
    "            'x0': daily_ts(df['Date'][pred_on]),\n",
    "            'y0': df['Close'][data_range[1]],\n",
    "            'x1': daily_ts(df['Date'][pred_on]),    \n",
    "            'y1': df['Open'][pred_on],\n",
    "            'line': {\n",
    "                'color': 'LightSeaGreen',\n",
    "                'width': 2,\n",
    "                'dash': 'dashdot'\n",
    "            }\n",
    "        }\n",
    "    ]\n",
    "\n",
    "fig.update_layout(\n",
    "    title=\"Prediction process visualization\",\n",
    "    yaxis_title=\"Stock price\",\n",
    "    xaxis_title=\"Date\",\n",
    "    shapes=shapes\n",
    ")\n",
    "\n",
    "fig.show()"
   ]
  }
 ],
 "metadata": {
  "kernelspec": {
   "display_name": "Python 3",
   "language": "python",
   "name": "python3"
  },
  "language_info": {
   "codemirror_mode": {
    "name": "ipython",
    "version": 3
   },
   "file_extension": ".py",
   "mimetype": "text/x-python",
   "name": "python",
   "nbconvert_exporter": "python",
   "pygments_lexer": "ipython3",
   "version": "3.7.6"
  }
 },
 "nbformat": 4,
 "nbformat_minor": 4
}
